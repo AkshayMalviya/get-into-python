{
 "cells": [
  {
   "cell_type": "code",
   "execution_count": 100,
   "metadata": {},
   "outputs": [
    {
     "name": "stdout",
     "output_type": "stream",
     "text": [
      "[[ 0  1  2  3  4]\n",
      " [ 5  6  7  8  9]\n",
      " [10 11 12 13 14]]\n",
      "Shape:  (3, 5)\n",
      "Dimension:  2\n",
      "DataType:  int32\n",
      "ItemSize:  4\n",
      "Size of Array:  15\n",
      "Type of A:  <class 'numpy.ndarray'>\n",
      "[6 7 8]\n",
      "Type of B:  <class 'numpy.ndarray'>\n"
     ]
    }
   ],
   "source": [
    "from numpy  import *\n",
    "a = arange(15).reshape(3, 5)\n",
    "print(a)\n",
    "print('Shape: ',a.shape)\n",
    "print('Dimension: ',a.ndim)\n",
    "print('DataType: ',a.dtype.name)\n",
    "print('ItemSize: ',a.itemsize)\n",
    "print('Size of Array: ',a.size)\n",
    "print('Type of A: ',type(a))\n",
    "b = array([6, 7, 8])\n",
    "print(b)\n",
    "print('Type of B: ',type(b))"
   ]
  },
  {
   "cell_type": "code",
   "execution_count": 101,
   "metadata": {},
   "outputs": [
    {
     "name": "stdout",
     "output_type": "stream",
     "text": [
      "[0 1 2 3 4 5]\n"
     ]
    }
   ],
   "source": [
    "a = arange(6)\n",
    "print(a)"
   ]
  },
  {
   "cell_type": "code",
   "execution_count": 102,
   "metadata": {},
   "outputs": [
    {
     "name": "stdout",
     "output_type": "stream",
     "text": [
      "[[ 0  1  2]\n",
      " [ 3  4  5]\n",
      " [ 6  7  8]\n",
      " [ 9 10 11]]\n"
     ]
    }
   ],
   "source": [
    "b=arange(12).reshape(4,3)\n",
    "print(b)"
   ]
  },
  {
   "cell_type": "code",
   "execution_count": 103,
   "metadata": {},
   "outputs": [
    {
     "name": "stdout",
     "output_type": "stream",
     "text": [
      "[[[ 0  1  2  3]\n",
      "  [ 4  5  6  7]\n",
      "  [ 8  9 10 11]]\n",
      "\n",
      " [[12 13 14 15]\n",
      "  [16 17 18 19]\n",
      "  [20 21 22 23]]]\n"
     ]
    }
   ],
   "source": [
    "c=arange(24).reshape(2,3,4)\n",
    "print(c)"
   ]
  },
  {
   "cell_type": "code",
   "execution_count": 104,
   "metadata": {},
   "outputs": [
    {
     "name": "stdout",
     "output_type": "stream",
     "text": [
      "[0 1 2 3]\n",
      "[20 29 38 47]\n",
      "[0 1 4 9]\n",
      "[ 9.12945251 -9.88031624  7.4511316  -2.62374854]\n",
      "[ True  True False False]\n"
     ]
    }
   ],
   "source": [
    "a = array( [20,30,40,50] )\n",
    "b = arange( 4 )\n",
    "print(b)\n",
    "c = a-b\n",
    "print(c)\n",
    "print(b**2)\n",
    "print(10*sin(a))\n",
    "print(a<35)"
   ]
  },
  {
   "cell_type": "code",
   "execution_count": 105,
   "metadata": {},
   "outputs": [
    {
     "name": "stdout",
     "output_type": "stream",
     "text": [
      "[[2 0]\n",
      " [0 4]]\n",
      "[[5 4]\n",
      " [3 4]]\n"
     ]
    }
   ],
   "source": [
    "A = array( [[1,1],[0,1]] )\n",
    "B = array( [[2,0],[3,4]] )\n",
    "print(A*B)                         # elementwise product\n",
    "print(dot(A,B))                    # matrix product"
   ]
  },
  {
   "cell_type": "code",
   "execution_count": 106,
   "metadata": {},
   "outputs": [
    {
     "name": "stdout",
     "output_type": "stream",
     "text": [
      "[[3 3 3]\n",
      " [3 3 3]]\n",
      "[[ 3.41448162  3.8176717   3.41362119]\n",
      " [ 3.76475286  3.51915492  3.16436653]]\n"
     ]
    }
   ],
   "source": [
    "a = ones((2,3), dtype=int)\n",
    "b = random.random((2,3))\n",
    "a *= 3\n",
    "print(a)\n",
    "b += a\n",
    "print(b)"
   ]
  },
  {
   "cell_type": "code",
   "execution_count": 107,
   "metadata": {},
   "outputs": [
    {
     "name": "stdout",
     "output_type": "stream",
     "text": [
      "int32\n",
      "[ 0.          1.57079633  3.14159265]\n",
      "float64\n",
      "[ 1.          2.57079633  4.14159265]\n",
      "float64\n",
      "[ 0.54030231+0.84147098j -0.84147098+0.54030231j -0.54030231-0.84147098j]\n",
      "complex128\n"
     ]
    }
   ],
   "source": [
    "a = ones(3, dtype=int32)\n",
    "b = linspace(0,pi,3)\n",
    "print(a.dtype.name)\n",
    "print(b)\n",
    "print(b.dtype.name)\n",
    "c = a+b\n",
    "print(c)\n",
    "print(c.dtype.name)\n",
    "d = exp(c*1j)\n",
    "print(d)\n",
    "print(d.dtype.name)"
   ]
  },
  {
   "cell_type": "code",
   "execution_count": 108,
   "metadata": {},
   "outputs": [
    {
     "name": "stdout",
     "output_type": "stream",
     "text": [
      "<class 'type'>\n",
      "<class 'int'>\n",
      "<class 'type'>\n"
     ]
    }
   ],
   "source": [
    "print (type(type(int)))\n",
    "x=10\n",
    "print(type(x))\n",
    "print(type(int))"
   ]
  },
  {
   "cell_type": "code",
   "execution_count": 109,
   "metadata": {},
   "outputs": [
    {
     "name": "stdout",
     "output_type": "stream",
     "text": [
      "[[[ 0  1  2]\n",
      "  [ 3  4  5]\n",
      "  [ 6  7  8]]\n",
      "\n",
      " [[ 9 10 11]\n",
      "  [12 13 14]\n",
      "  [15 16 17]]]\n",
      "[[ 9 11 13]\n",
      " [15 17 19]\n",
      " [21 23 25]]\n",
      "[[ 0  1  2]\n",
      " [ 9 10 11]]\n",
      "[[[ 0  1  2]\n",
      "  [ 3  5  7]\n",
      "  [ 9 12 15]]\n",
      "\n",
      " [[ 9 10 11]\n",
      "  [21 23 25]\n",
      "  [36 39 42]]]\n"
     ]
    }
   ],
   "source": [
    "b = arange(18).reshape(2,3,3)\n",
    "print(b)\n",
    "print(b.sum(axis=0))                            # sum of each column\n",
    "print(b.min(axis=1))                            # min of each row\n",
    "print(b.cumsum(axis=1))                         # cumulative sum along each row"
   ]
  },
  {
   "cell_type": "code",
   "execution_count": 110,
   "metadata": {},
   "outputs": [
    {
     "name": "stdout",
     "output_type": "stream",
     "text": [
      "[[ 9.  5.  8.  4.]\n",
      " [ 3.  2.  9.  3.]\n",
      " [ 7.  8.  6.  0.]]\n",
      "(3, 4)\n",
      "[ 9.  5.  8.  4.  3.  2.  9.  3.  7.  8.  6.  0.]\n",
      "[[ 9.  5.]\n",
      " [ 8.  4.]\n",
      " [ 3.  2.]\n",
      " [ 9.  3.]\n",
      " [ 7.  8.]\n",
      " [ 6.  0.]]\n",
      "[[ 9.  8.  3.  9.  7.  6.]\n",
      " [ 5.  4.  2.  3.  8.  0.]]\n",
      "[[ 9.  5.  8.  4.]\n",
      " [ 3.  2.  9.  3.]\n",
      " [ 7.  8.  6.  0.]]\n"
     ]
    }
   ],
   "source": [
    "a = floor(10*random.random((3,4)))\n",
    "print(a)\n",
    "print(a.shape)\n",
    "\n",
    "#The shape of an array can be changed with various commands:\n",
    "print(a.ravel()) # flatten the array\n",
    "a.shape = (6, 2)\n",
    "print(a)\n",
    "print(a.transpose())\n",
    "print(a.reshape(3,-1))"
   ]
  },
  {
   "cell_type": "code",
   "execution_count": 111,
   "metadata": {},
   "outputs": [
    {
     "name": "stdout",
     "output_type": "stream",
     "text": [
      "[[ 2.  4.]\n",
      " [ 6.  4.]\n",
      " [ 7.  7.]\n",
      " [ 5.  2.]]\n",
      "[[ 2.  4.  7.  7.]\n",
      " [ 6.  4.  5.  2.]]\n"
     ]
    }
   ],
   "source": [
    "#Stacking together different arrays\n",
    "a = floor(10*random.random((2,2)))\n",
    "b = floor(10*random.random((2,2)))\n",
    "print(vstack((a,b)))\n",
    "print(hstack((a,b)))"
   ]
  },
  {
   "cell_type": "code",
   "execution_count": 112,
   "metadata": {},
   "outputs": [
    {
     "name": "stdout",
     "output_type": "stream",
     "text": [
      "[[ 5.  2.  0.  3.  5.  7.  3.  0.  5.  5.  3.  0.]\n",
      " [ 6.  6.  7.  8.  4.  4.  6.  0.  6.  4.  6.  5.]]\n",
      "[array([[ 5.,  2.,  0.,  3.],\n",
      "       [ 6.,  6.,  7.,  8.]]), array([[ 5.,  7.,  3.,  0.],\n",
      "       [ 4.,  4.,  6.,  0.]]), array([[ 5.,  5.,  3.,  0.],\n",
      "       [ 6.,  4.,  6.,  5.]])]\n",
      "[[ 5.  2.  0.  3.  5.  7.  3.  0.  5.  5.  3.  0.]\n",
      " [ 6.  6.  7.  8.  4.  4.  6.  0.  6.  4.  6.  5.]] (3, 4)\n"
     ]
    }
   ],
   "source": [
    "a = floor(10*random.random((2,12)))\n",
    "print(a)\n",
    "print(hsplit(a,3))\n",
    "print(a,(3,4))"
   ]
  },
  {
   "cell_type": "code",
   "execution_count": 113,
   "metadata": {},
   "outputs": [
    {
     "name": "stdout",
     "output_type": "stream",
     "text": [
      "True\n",
      "(3, 4)\n",
      "141516928\n",
      "141516928\n",
      "None\n",
      "False\n",
      "True\n",
      "False\n",
      "(3, 4)\n",
      "[[   0    1    2    3]\n",
      " [1234    5    6    7]\n",
      " [   8    9   10   11]]\n"
     ]
    }
   ],
   "source": [
    "#View or Shallow Copy\n",
    "\n",
    "a = arange(12)\n",
    "b = a            # no new object is created\n",
    "print(b is a)           # a and b are two names for the same ndarray object\n",
    "b.shape = 3,4    # changes the shape of a\n",
    "print(a.shape)\n",
    "\n",
    "#Python passes mutable objects as references, so function calls make no copy.\n",
    "def f(x):\n",
    "    print(id(x))\n",
    "print(id(a))                           # id is a unique identifier of an object\n",
    "print(f(a))\n",
    "\n",
    "\n",
    "c = a.view()\n",
    "print(c is a)\n",
    "print(c.base is a)                        # c is a view of the data owned by a\n",
    "print(c.flags.owndata)\n",
    "c.shape = 2,6                      # a's shape doesn't change\n",
    "print(a.shape)\n",
    "c[0,4] = 1234                      # a's data changes\n",
    "print(a)"
   ]
  },
  {
   "cell_type": "code",
   "execution_count": 114,
   "metadata": {},
   "outputs": [
    {
     "name": "stdout",
     "output_type": "stream",
     "text": [
      "[[   0   10   10    3]\n",
      " [1234   10   10    7]\n",
      " [   8   10   10   11]]\n"
     ]
    }
   ],
   "source": [
    "s = a[ : , 1:3]     # spaces added for clarity; could also be written \"s = a[:,1:3]\"\n",
    "s[:] = 10           # s[:] is a view of s. Note the difference between s=10 and s[:]=10\n",
    "print(a)"
   ]
  },
  {
   "cell_type": "code",
   "execution_count": 115,
   "metadata": {},
   "outputs": [
    {
     "name": "stdout",
     "output_type": "stream",
     "text": [
      "False\n",
      "False\n",
      "[[   0   10   10    3]\n",
      " [1234   10   10    7]\n",
      " [   8   10   10   11]]\n"
     ]
    }
   ],
   "source": [
    "d = a.copy()                          # a new array object with new data is created\n",
    "print(d is a)\n",
    "print(d.base is a)                           # d doesn't share anything with a\n",
    "d[0,0] = 9999\n",
    "print(a)"
   ]
  },
  {
   "cell_type": "code",
   "execution_count": 116,
   "metadata": {},
   "outputs": [
    {
     "name": "stdout",
     "output_type": "stream",
     "text": [
      "[[ 0  1  2  3]\n",
      " [ 4  5  6  7]\n",
      " [ 8  9 10 11]]\n",
      "[[False False False False]\n",
      " [False  True  True  True]\n",
      " [ True  True  True  True]]\n",
      "[ 5  6  7  8  9 10 11]\n"
     ]
    }
   ],
   "source": [
    "a = arange(12).reshape(3,4)\n",
    "b = a > 4\n",
    "print(a)\n",
    "print(b)                                          # b is a boolean with a's shape\n",
    "print(a[b])                                       # 1d array with the selected elements"
   ]
  },
  {
   "cell_type": "code",
   "execution_count": 117,
   "metadata": {},
   "outputs": [
    {
     "name": "stdout",
     "output_type": "stream",
     "text": [
      "[[0 1 2 3]\n",
      " [4 0 0 0]\n",
      " [0 0 0 0]]\n"
     ]
    }
   ],
   "source": [
    "a[b] = 0                                   # All elements of 'a' higher than 4 become 0\n",
    "print(a)"
   ]
  },
  {
   "cell_type": "code",
   "execution_count": 118,
   "metadata": {},
   "outputs": [
    {
     "name": "stdout",
     "output_type": "stream",
     "text": [
      "[[ 4  5  6  7]\n",
      " [ 8  9 10 11]]\n",
      "[[ 4  5  6  7]\n",
      " [ 8  9 10 11]]\n",
      "[[ 0  2]\n",
      " [ 4  6]\n",
      " [ 8 10]]\n",
      "[ 4 10]\n"
     ]
    }
   ],
   "source": [
    "a = arange(12).reshape(3,4)\n",
    "b1 = array([False,True,True])             # first dim selection\n",
    "b2 = array([True,False,True,False])       # second dim selection\n",
    "print(a[b1,:])                                   # selecting rows\n",
    "print(a[b1])                                     # same thing\n",
    "print(a[:,b2])                                   # selecting columns\n",
    "print(a[b1,b2])                                  # a weird thing to do"
   ]
  },
  {
   "cell_type": "code",
   "execution_count": 119,
   "metadata": {},
   "outputs": [
    {
     "name": "stdout",
     "output_type": "stream",
     "text": [
      "[2 3 4 5]\n",
      "[8 5 4]\n",
      "[5 4 6 8 3]\n",
      "[[[2]]\n",
      "\n",
      " [[3]]\n",
      "\n",
      " [[4]]\n",
      "\n",
      " [[5]]]\n",
      "[[[8]\n",
      "  [5]\n",
      "  [4]]]\n",
      "[[[5 4 6 8 3]]]\n",
      "(4, 1, 1) (1, 3, 1) (1, 1, 5)\n",
      "[[[42 34 50 66 26]\n",
      "  [27 22 32 42 17]\n",
      "  [22 18 26 34 14]]\n",
      "\n",
      " [[43 35 51 67 27]\n",
      "  [28 23 33 43 18]\n",
      "  [23 19 27 35 15]]\n",
      "\n",
      " [[44 36 52 68 28]\n",
      "  [29 24 34 44 19]\n",
      "  [24 20 28 36 16]]\n",
      "\n",
      " [[45 37 53 69 29]\n",
      "  [30 25 35 45 20]\n",
      "  [25 21 29 37 17]]]\n",
      "17\n",
      "17\n"
     ]
    }
   ],
   "source": [
    "a = array([2,3,4,5])\n",
    "b = array([8,5,4])\n",
    "c = array([5,4,6,8,3])\n",
    "ax,bx,cx = ix_(a,b,c)\n",
    "print(a)\n",
    "print(b)\n",
    "print(c)\n",
    "print(ax)\n",
    "print(bx)\n",
    "print(cx)\n",
    "print(ax.shape, bx.shape, cx.shape)\n",
    "result = ax+bx*cx\n",
    "print(result)\n",
    "print(result[3,2,4])\n",
    "print(a[3]+b[2]*c[4])"
   ]
  },
  {
   "cell_type": "code",
   "execution_count": 120,
   "metadata": {
    "collapsed": true
   },
   "outputs": [],
   "source": [
    "#Linear Algebra"
   ]
  },
  {
   "cell_type": "code",
   "execution_count": 121,
   "metadata": {},
   "outputs": [
    {
     "name": "stdout",
     "output_type": "stream",
     "text": [
      "[[ 1.  2.]\n",
      " [ 3.  4.]]\n",
      "[[ 1.  3.]\n",
      " [ 2.  4.]]\n",
      "[[-2.   1. ]\n",
      " [ 1.5 -0.5]]\n",
      "[[ 1.  0.]\n",
      " [ 0.  1.]]\n",
      "[[-1.  0.]\n",
      " [ 0. -1.]]\n",
      "2.0\n",
      "[[-3.]\n",
      " [ 4.]]\n",
      "(array([ 0.+1.j,  0.-1.j]), array([[ 0.70710678+0.j        ,  0.70710678-0.j        ],\n",
      "       [ 0.00000000-0.70710678j,  0.00000000+0.70710678j]]))\n"
     ]
    }
   ],
   "source": [
    "from numpy import *\n",
    "from numpy.linalg import *\n",
    "\n",
    "a = array([[1.0, 2.0], [3.0, 4.0]])\n",
    "print(a)\n",
    "print(a.transpose())\n",
    "print(inv(a))\n",
    "u = eye(2) # unit 2x2 matrix; \"eye\" represents \"I\"\n",
    "print(u)\n",
    "j = array([[0.0, -1.0], [1.0, 0.0]])\n",
    "print(dot (j, j)) # matrix product\n",
    "print(trace(u))  # trace\n",
    "\n",
    "y = array([[5.], [7.]])\n",
    "print(solve(a, y))\n",
    "print(eig(j))"
   ]
  },
  {
   "cell_type": "code",
   "execution_count": 122,
   "metadata": {
    "collapsed": true
   },
   "outputs": [],
   "source": [
    "#The Matrix Class"
   ]
  },
  {
   "cell_type": "code",
   "execution_count": 123,
   "metadata": {},
   "outputs": [
    {
     "name": "stdout",
     "output_type": "stream",
     "text": [
      "[[ 1.  2.]\n",
      " [ 3.  4.]]\n",
      "<class 'numpy.matrixlib.defmatrix.matrix'>\n",
      "[[ 1.  3.]\n",
      " [ 2.  4.]]\n",
      "[[ 5.]\n",
      " [ 7.]]\n",
      "[[ 19.]\n",
      " [ 43.]]\n",
      "[[-2.   1. ]\n",
      " [ 1.5 -0.5]]\n",
      "[[-3.]\n",
      " [ 4.]]\n"
     ]
    }
   ],
   "source": [
    "A = matrix('1.0 2.0; 3.0 4.0')\n",
    "print(A)\n",
    "print(type(A))  # file where class is defined\n",
    "print(A.T)  # transpose\n",
    "X = matrix('5.0 7.0')\n",
    "Y = X.T\n",
    "print(Y)\n",
    "print(A*Y)  # matrix multiplication\n",
    "print(A.I)  # inverse\n",
    "print(solve(A, Y))  # solving linear equation"
   ]
  },
  {
   "cell_type": "code",
   "execution_count": 124,
   "metadata": {},
   "outputs": [
    {
     "name": "stdout",
     "output_type": "stream",
     "text": [
      "[ 0  1  2  3  4  5  6  7  8  9 10 11]\n",
      "<class 'numpy.ndarray'>    <class 'numpy.matrixlib.defmatrix.matrix'>\n",
      "[[ 0  1  2  3]\n",
      " [ 4  5  6  7]\n",
      " [ 8  9 10 11]]\n",
      "[[ 0  1  2  3]\n",
      " [ 4  5  6  7]\n",
      " [ 8  9 10 11]]\n"
     ]
    }
   ],
   "source": [
    "#Comparing Matrices and 2D Arrays\n",
    "A = arange(12)\n",
    "print(A)\n",
    "A.shape = (3,4)\n",
    "M = mat(A.copy())\n",
    "print(type(A),\"  \",type(M))\n",
    "print(A)\n",
    "print(M)"
   ]
  },
  {
   "cell_type": "code",
   "execution_count": 125,
   "metadata": {
    "collapsed": true
   },
   "outputs": [],
   "source": [
    "#Histograms"
   ]
  },
  {
   "cell_type": "code",
   "execution_count": 126,
   "metadata": {},
   "outputs": [
    {
     "data": {
      "image/png": "[encoded data removed]",
      "text/plain": [
       "<matplotlib.figure.Figure at 0x870fe80>"
      ]
     },
     "metadata": {},
     "output_type": "display_data"
    },
    {
     "data": {
      "image/png": "[encoded data removed]",
      "text/plain": [
       "<matplotlib.figure.Figure at 0x8880780>"
      ]
     },
     "metadata": {},
     "output_type": "display_data"
    }
   ],
   "source": [
    "import numpy\n",
    "import pylab\n",
    "# Build a vector of 10000 normal deviates with variance 0.5^2 and mean 2\n",
    "mu, sigma = 2, 0.5\n",
    "v = numpy.random.normal(mu,sigma,10000)\n",
    "# Plot a normalized histogram with 50 bins\n",
    "pylab.hist(v, bins=50, normed=1)       # matplotlib version (plot)\n",
    "pylab.show()\n",
    "# Compute the histogram with numpy and then plot it\n",
    "(n, bins) = numpy.histogram(v, bins=50, normed=True)  # NumPy version (no plot)\n",
    "pylab.plot(.5*(bins[1:]+bins[:-1]), n)\n",
    "pylab.show()"
   ]
  },
  {
   "cell_type": "code",
   "execution_count": null,
   "metadata": {
    "collapsed": true
   },
   "outputs": [],
   "source": []
  }
 ],
 "metadata": {
  "kernelspec": {
   "display_name": "Python 3",
   "language": "python",
   "name": "python3"
  },
  "language_info": {
   "codemirror_mode": {
    "name": "ipython",
    "version": 3
   },
   "file_extension": ".py",
   "mimetype": "text/x-python",
   "name": "python",
   "nbconvert_exporter": "python",
   "pygments_lexer": "ipython3",
   "version": "3.6.1"
  }
 },
 "nbformat": 4,
 "nbformat_minor": 2
}
